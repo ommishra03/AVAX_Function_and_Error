{
  "nbformat": 4,
  "nbformat_minor": 0,
  "metadata": {
    "colab": {
      "provenance": [],
      "authorship_tag": "ABX9TyOaOYExzHx2eC6QWQwMHjmv",
      "include_colab_link": true
    },
    "kernelspec": {
      "name": "python3",
      "display_name": "Python 3"
    },
    "language_info": {
      "name": "python"
    }
  },
  "cells": [
    {
      "cell_type": "markdown",
      "metadata": {
        "id": "view-in-github",
        "colab_type": "text"
      },
      "source": [
        "<a href=\"https://colab.research.google.com/github/ommishra03/AVAX_Function_and_Error/blob/main/random_softskill_question_genrator.ipynb\" target=\"_parent\"><img src=\"https://colab.research.google.com/assets/colab-badge.svg\" alt=\"Open In Colab\"/></a>"
      ]
    },
    {
      "cell_type": "code",
      "execution_count": null,
      "metadata": {
        "id": "9LDdboEqjKeG"
      },
      "outputs": [],
      "source": [
        "import pandas as pd\n",
        "import random\n",
        "\n",
        "def load_questions(filename):\n",
        "    df = pd.read_csv(filename)\n",
        "    return df[['question', 'answer']].to_dict(orient='records')\n",
        "\n",
        "def ask_questions(questions):\n",
        "    score = 0\n",
        "    for i, q in enumerate(questions, 1):\n",
        "        print(f\"Question {i}: {q['question']}\")\n",
        "        answer = input(\"Your answer: \").strip()\n",
        "        if answer.lower() == q['answer'].strip().lower():\n",
        "            score += 1\n",
        "    return score\n",
        "\n",
        "def main():\n",
        "    filename = '/content/question.csv'\n",
        "    questions = load_questions(filename)\n",
        "    selected_questions = random.sample(questions, 10)\n",
        "    score = ask_questions(selected_questions)\n",
        "    print(f\"\\nYour score: {score}/10\")\n",
        "\n",
        "if __name__ == \"__main__\":\n",
        "    main()"
      ]
    }
  ]
}